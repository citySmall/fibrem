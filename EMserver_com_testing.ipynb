{
 "cells": [
  {
   "cell_type": "code",
   "execution_count": 1,
   "id": "polish-cyprus",
   "metadata": {},
   "outputs": [],
   "source": [
    "import pythoncom"
   ]
  },
  {
   "cell_type": "code",
   "execution_count": 5,
   "id": "differential-trance",
   "metadata": {},
   "outputs": [],
   "source": [
    "# Has to take 0 \n",
    "context = pythoncom.CreateBindCtx(0)\n",
    "context"
   ]
  },
  {
   "cell_type": "code",
   "execution_count": 6,
   "id": "underlying-buddy",
   "metadata": {},
   "outputs": [
    {
     "data": {
      "text/plain": [
       "<PyIRunningObjectTable at 0x00000285213D27F0 with obj at 0x0000028521329A20>"
      ]
     },
     "execution_count": 6,
     "metadata": {},
     "output_type": "execute_result"
    }
   ],
   "source": [
    "running_coms = pythoncom.GetRunningObjectTable()\n",
    "running_coms"
   ]
  },
  {
   "cell_type": "code",
   "execution_count": 12,
   "id": "attractive-livestock",
   "metadata": {},
   "outputs": [
    {
     "data": {
      "text/plain": [
       "<PyIEnumMoniker at 0x00000285213D2160 with obj at 0x000002852035D870>"
      ]
     },
     "execution_count": 12,
     "metadata": {},
     "output_type": "execute_result"
    }
   ],
   "source": [
    "monikers = running_coms.EnumRunning()\n",
    "monikers"
   ]
  },
  {
   "cell_type": "code",
   "execution_count": 14,
   "id": "supreme-tucson",
   "metadata": {},
   "outputs": [],
   "source": [
    "for moniker in monikers:\n",
    "    \n",
    "    #print('-'*100)\n",
    "    print(moniker.GetDisplayName(context, moniker))"
   ]
  },
  {
   "cell_type": "code",
   "execution_count": 15,
   "id": "broke-montana",
   "metadata": {},
   "outputs": [
    {
     "name": "stdout",
     "output_type": "stream",
     "text": [
      "Help on PyIEnumMoniker object:\n",
      "\n",
      "class PyIEnumMoniker(PyIUnknown)\n",
      " |  Define the behavior of a PythonCOM Interface type.\n",
      " |  \n",
      " |  Method resolution order:\n",
      " |      PyIEnumMoniker\n",
      " |      PyIUnknown\n",
      " |      interface-type\n",
      " |      object\n",
      " |  \n",
      " |  Methods defined here:\n",
      " |  \n",
      " |  Clone(...)\n",
      " |  \n",
      " |  Next(...)\n",
      " |  \n",
      " |  Reset(...)\n",
      " |  \n",
      " |  Skip(...)\n",
      " |  \n",
      " |  __delattr__(self, name, /)\n",
      " |      Implement delattr(self, name).\n",
      " |  \n",
      " |  __eq__(self, value, /)\n",
      " |      Return self==value.\n",
      " |  \n",
      " |  __ge__(self, value, /)\n",
      " |      Return self>=value.\n",
      " |  \n",
      " |  __getattribute__(self, name, /)\n",
      " |      Return getattr(self, name).\n",
      " |  \n",
      " |  __gt__(self, value, /)\n",
      " |      Return self>value.\n",
      " |  \n",
      " |  __iter__(self, /)\n",
      " |      Implement iter(self).\n",
      " |  \n",
      " |  __le__(self, value, /)\n",
      " |      Return self<=value.\n",
      " |  \n",
      " |  __lt__(self, value, /)\n",
      " |      Return self<value.\n",
      " |  \n",
      " |  __ne__(self, value, /)\n",
      " |      Return self!=value.\n",
      " |  \n",
      " |  __next__(self, /)\n",
      " |      Implement next(self).\n",
      " |  \n",
      " |  __repr__(self, /)\n",
      " |      Return repr(self).\n",
      " |  \n",
      " |  __setattr__(self, name, value, /)\n",
      " |      Implement setattr(self, name, value).\n",
      " |  \n",
      " |  ----------------------------------------------------------------------\n",
      " |  Data and other attributes defined here:\n",
      " |  \n",
      " |  __hash__ = None\n",
      " |  \n",
      " |  ----------------------------------------------------------------------\n",
      " |  Methods inherited from PyIUnknown:\n",
      " |  \n",
      " |  QueryInterface(...)\n",
      "\n"
     ]
    }
   ],
   "source": [
    "help(monikers)"
   ]
  },
  {
   "cell_type": "code",
   "execution_count": null,
   "id": "agreed-niagara",
   "metadata": {},
   "outputs": [],
   "source": []
  }
 ],
 "metadata": {
  "kernelspec": {
   "display_name": "Python 3",
   "language": "python",
   "name": "python3"
  },
  "language_info": {
   "codemirror_mode": {
    "name": "ipython",
    "version": 3
   },
   "file_extension": ".py",
   "mimetype": "text/x-python",
   "name": "python",
   "nbconvert_exporter": "python",
   "pygments_lexer": "ipython3",
   "version": "3.8.5"
  }
 },
 "nbformat": 4,
 "nbformat_minor": 5
}
