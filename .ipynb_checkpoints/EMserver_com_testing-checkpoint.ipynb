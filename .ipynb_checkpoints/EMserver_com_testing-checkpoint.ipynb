{
 "cells": [
  {
   "cell_type": "code",
   "execution_count": 9,
   "id": "polish-cyprus",
   "metadata": {},
   "outputs": [],
   "source": [
    "import pythoncom"
   ]
  },
  {
   "cell_type": "code",
   "execution_count": 16,
   "id": "differential-trance",
   "metadata": {},
   "outputs": [],
   "source": [
    "# Has to take 0 \n",
    "context = pythoncom.CreateBindCtx(0)\n",
    "running_coms = pythoncom.GetRunningObjectTable()\n",
    "monikiers = running_coms.EnumRunning()\n",
    "\n",
    "for monikier in monikiers:\n",
    "    print(monikier.GetDisplayName(context, monikier))"
   ]
  },
  {
   "cell_type": "code",
   "execution_count": 17,
   "id": "underlying-buddy",
   "metadata": {},
   "outputs": [
    {
     "ename": "NameError",
     "evalue": "name 'monikier' is not defined",
     "output_type": "error",
     "traceback": [
      "\u001b[1;31m---------------------------------------------------------------------------\u001b[0m",
      "\u001b[1;31mNameError\u001b[0m                                 Traceback (most recent call last)",
      "\u001b[1;32m<ipython-input-17-83996d121dc0>\u001b[0m in \u001b[0;36m<module>\u001b[1;34m\u001b[0m\n\u001b[1;32m----> 1\u001b[1;33m \u001b[0mprint\u001b[0m\u001b[1;33m(\u001b[0m\u001b[0mmonikier\u001b[0m\u001b[1;33m.\u001b[0m\u001b[0mGetDisplayName\u001b[0m\u001b[1;33m(\u001b[0m\u001b[0mcontext\u001b[0m\u001b[1;33m,\u001b[0m \u001b[0mmonikier\u001b[0m\u001b[1;33m)\u001b[0m\u001b[1;33m)\u001b[0m\u001b[1;33m\u001b[0m\u001b[1;33m\u001b[0m\u001b[0m\n\u001b[0m",
      "\u001b[1;31mNameError\u001b[0m: name 'monikier' is not defined"
     ]
    }
   ],
   "source": [
    "print(monikier.GetDisplayName(context, monikier))"
   ]
  },
  {
   "cell_type": "code",
   "execution_count": 12,
   "id": "attractive-livestock",
   "metadata": {},
   "outputs": [],
   "source": []
  },
  {
   "cell_type": "code",
   "execution_count": 13,
   "id": "supreme-tucson",
   "metadata": {},
   "outputs": [],
   "source": [
    "for monikier in monikiers:\n"
   ]
  },
  {
   "cell_type": "code",
   "execution_count": 15,
   "id": "electoral-appliance",
   "metadata": {},
   "outputs": [
    {
     "ename": "TypeError",
     "evalue": "'PyIEnumMoniker' object is not subscriptable",
     "output_type": "error",
     "traceback": [
      "\u001b[1;31m---------------------------------------------------------------------------\u001b[0m",
      "\u001b[1;31mTypeError\u001b[0m                                 Traceback (most recent call last)",
      "\u001b[1;32m<ipython-input-15-64bb8eb97b36>\u001b[0m in \u001b[0;36m<module>\u001b[1;34m\u001b[0m\n\u001b[1;32m----> 1\u001b[1;33m \u001b[0mmonikiers\u001b[0m\u001b[1;33m[\u001b[0m\u001b[1;36m0\u001b[0m\u001b[1;33m]\u001b[0m\u001b[1;33m\u001b[0m\u001b[1;33m\u001b[0m\u001b[0m\n\u001b[0m",
      "\u001b[1;31mTypeError\u001b[0m: 'PyIEnumMoniker' object is not subscriptable"
     ]
    }
   ],
   "source": [
    "monikiers[0]"
   ]
  },
  {
   "cell_type": "code",
   "execution_count": 14,
   "id": "vital-sperm",
   "metadata": {},
   "outputs": [
    {
     "name": "stdout",
     "output_type": "stream",
     "text": [
      "Help on PyIEnumMoniker object:\n",
      "\n",
      "class PyIEnumMoniker(PyIUnknown)\n",
      " |  Define the behavior of a PythonCOM Interface type.\n",
      " |  \n",
      " |  Method resolution order:\n",
      " |      PyIEnumMoniker\n",
      " |      PyIUnknown\n",
      " |      interface-type\n",
      " |      object\n",
      " |  \n",
      " |  Methods defined here:\n",
      " |  \n",
      " |  Clone(...)\n",
      " |  \n",
      " |  Next(...)\n",
      " |  \n",
      " |  Reset(...)\n",
      " |  \n",
      " |  Skip(...)\n",
      " |  \n",
      " |  __delattr__(self, name, /)\n",
      " |      Implement delattr(self, name).\n",
      " |  \n",
      " |  __eq__(self, value, /)\n",
      " |      Return self==value.\n",
      " |  \n",
      " |  __ge__(self, value, /)\n",
      " |      Return self>=value.\n",
      " |  \n",
      " |  __getattribute__(self, name, /)\n",
      " |      Return getattr(self, name).\n",
      " |  \n",
      " |  __gt__(self, value, /)\n",
      " |      Return self>value.\n",
      " |  \n",
      " |  __iter__(self, /)\n",
      " |      Implement iter(self).\n",
      " |  \n",
      " |  __le__(self, value, /)\n",
      " |      Return self<=value.\n",
      " |  \n",
      " |  __lt__(self, value, /)\n",
      " |      Return self<value.\n",
      " |  \n",
      " |  __ne__(self, value, /)\n",
      " |      Return self!=value.\n",
      " |  \n",
      " |  __next__(self, /)\n",
      " |      Implement next(self).\n",
      " |  \n",
      " |  __repr__(self, /)\n",
      " |      Return repr(self).\n",
      " |  \n",
      " |  __setattr__(self, name, value, /)\n",
      " |      Implement setattr(self, name, value).\n",
      " |  \n",
      " |  ----------------------------------------------------------------------\n",
      " |  Data and other attributes defined here:\n",
      " |  \n",
      " |  __hash__ = None\n",
      " |  \n",
      " |  ----------------------------------------------------------------------\n",
      " |  Methods inherited from PyIUnknown:\n",
      " |  \n",
      " |  QueryInterface(...)\n",
      "\n"
     ]
    }
   ],
   "source": [
    "help(monikiers)"
   ]
  },
  {
   "cell_type": "code",
   "execution_count": null,
   "id": "broke-montana",
   "metadata": {},
   "outputs": [],
   "source": []
  }
 ],
 "metadata": {
  "kernelspec": {
   "display_name": "Python 3",
   "language": "python",
   "name": "python3"
  },
  "language_info": {
   "codemirror_mode": {
    "name": "ipython",
    "version": 3
   },
   "file_extension": ".py",
   "mimetype": "text/x-python",
   "name": "python",
   "nbconvert_exporter": "python",
   "pygments_lexer": "ipython3",
   "version": "3.8.5"
  }
 },
 "nbformat": 4,
 "nbformat_minor": 5
}
